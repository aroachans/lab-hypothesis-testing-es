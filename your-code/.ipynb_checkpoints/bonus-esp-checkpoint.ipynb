{
 "cells": [
  {
   "cell_type": "markdown",
   "metadata": {},
   "source": [
    "<img src=https://sm.ign.com/ign_es/screenshot/default/blob_wx2q.jpg>"
   ]
  },
  {
   "cell_type": "markdown",
   "metadata": {},
   "source": [
    "# Desafío 1 - T-test\n",
    "\n",
    "En estadística, la prueba t se utiliza para verificar si dos muestras de datos tienen una diferencia significativa entre sus medias. Hay dos tipos de t-test:\n",
    "\n",
    "* **T-test de Student** (también conocida como prueba t independiente o no correlacionada). Este tipo de prueba t se utiliza para comparar las muestras de dos poblaciones independientes (por ejemplo, los puntajes de pruebas de estudiantes en dos clases diferentes). `scipy` proporciona el método [`ttest_ind`](https://docs.scipy.org/doc/scipy-0.15.1/reference/generated/scipy.stats.ttest_ind.html) para realizar la prueba t de Student.\n",
    "\n",
    "* **T-test pareada** (también conocida como prueba t dependiente o correlacionada). Este tipo de prueba t se utiliza para comparar las muestras de **la misma población** (por ejemplo, los puntajes de diferentes pruebas de estudiantes en la misma clase). `scipy` proporciona el método [`ttest_re`](https://docs.scipy.org/doc/scipy-0.15.1/reference/generated/scipy.stats.ttest_rel.html) para realizar la prueba t pareada.\n",
    "\n",
    "Ambos tipos de pruebas t devuelven un número llamado **valor p** (**p-value**). Si el valor p está por debajo de 0.05, podemos declarar con confianza que se rechaza la hipótesis nula y que la diferencia es significativa. Si el valor p está entre 0.05 y 0.1, también podemos declarar que se rechaza la hipótesis nula, pero no con alta confianza. Si el valor p está por encima de 0.1, no rechazamos la hipótesis nula.\n",
    "\n",
    "Lee más sobre la t-test en [este artículo](https://researchbasics.education.uconn.edu/t-test/) and [esta página de Quora](https://www.quora.com/What-is-the-difference-between-a-paired-and-unpaired-t-test). Asegúrate de entender cuándo usar cada tipo de t-test. "
   ]
  },
  {
   "cell_type": "code",
   "execution_count": 1,
   "metadata": {},
   "outputs": [],
   "source": [
    "import pandas as pd"
   ]
  },
  {
   "cell_type": "markdown",
   "metadata": {},
   "source": [
    "#### Importar conjunto de datos\n",
    "\n",
    "En este desafío, trabajaremos con el conjunto de datos de Pokémon que utilizaste la semana pasada. El objetivo es probar si diferentes grupos de Pokémon (por ejemplo, Legendarios vs. Normales, Generación 1 vs. Generación 2, tipo único vs. tipo dual) tienen diferentes estadísticas (por ejemplo, HP, Ataque, Defensa, etc.)."
   ]
  },
  {
   "cell_type": "code",
   "execution_count": 6,
   "metadata": {},
   "outputs": [
    {
     "data": {
      "text/html": [
       "<div>\n",
       "<style scoped>\n",
       "    .dataframe tbody tr th:only-of-type {\n",
       "        vertical-align: middle;\n",
       "    }\n",
       "\n",
       "    .dataframe tbody tr th {\n",
       "        vertical-align: top;\n",
       "    }\n",
       "\n",
       "    .dataframe thead th {\n",
       "        text-align: right;\n",
       "    }\n",
       "</style>\n",
       "<table border=\"1\" class=\"dataframe\">\n",
       "  <thead>\n",
       "    <tr style=\"text-align: right;\">\n",
       "      <th></th>\n",
       "      <th>#</th>\n",
       "      <th>Name</th>\n",
       "      <th>Type 1</th>\n",
       "      <th>Type 2</th>\n",
       "      <th>Total</th>\n",
       "      <th>HP</th>\n",
       "      <th>Attack</th>\n",
       "      <th>Defense</th>\n",
       "      <th>Sp. Atk</th>\n",
       "      <th>Sp. Def</th>\n",
       "      <th>Speed</th>\n",
       "      <th>Generation</th>\n",
       "      <th>Legendary</th>\n",
       "    </tr>\n",
       "  </thead>\n",
       "  <tbody>\n",
       "    <tr>\n",
       "      <th>0</th>\n",
       "      <td>1</td>\n",
       "      <td>Bulbasaur</td>\n",
       "      <td>Grass</td>\n",
       "      <td>Poison</td>\n",
       "      <td>318</td>\n",
       "      <td>45</td>\n",
       "      <td>49</td>\n",
       "      <td>49</td>\n",
       "      <td>65</td>\n",
       "      <td>65</td>\n",
       "      <td>45</td>\n",
       "      <td>1</td>\n",
       "      <td>False</td>\n",
       "    </tr>\n",
       "    <tr>\n",
       "      <th>1</th>\n",
       "      <td>2</td>\n",
       "      <td>Ivysaur</td>\n",
       "      <td>Grass</td>\n",
       "      <td>Poison</td>\n",
       "      <td>405</td>\n",
       "      <td>60</td>\n",
       "      <td>62</td>\n",
       "      <td>63</td>\n",
       "      <td>80</td>\n",
       "      <td>80</td>\n",
       "      <td>60</td>\n",
       "      <td>1</td>\n",
       "      <td>False</td>\n",
       "    </tr>\n",
       "    <tr>\n",
       "      <th>2</th>\n",
       "      <td>3</td>\n",
       "      <td>Venusaur</td>\n",
       "      <td>Grass</td>\n",
       "      <td>Poison</td>\n",
       "      <td>525</td>\n",
       "      <td>80</td>\n",
       "      <td>82</td>\n",
       "      <td>83</td>\n",
       "      <td>100</td>\n",
       "      <td>100</td>\n",
       "      <td>80</td>\n",
       "      <td>1</td>\n",
       "      <td>False</td>\n",
       "    </tr>\n",
       "    <tr>\n",
       "      <th>3</th>\n",
       "      <td>3</td>\n",
       "      <td>VenusaurMega Venusaur</td>\n",
       "      <td>Grass</td>\n",
       "      <td>Poison</td>\n",
       "      <td>625</td>\n",
       "      <td>80</td>\n",
       "      <td>100</td>\n",
       "      <td>123</td>\n",
       "      <td>122</td>\n",
       "      <td>120</td>\n",
       "      <td>80</td>\n",
       "      <td>1</td>\n",
       "      <td>False</td>\n",
       "    </tr>\n",
       "    <tr>\n",
       "      <th>4</th>\n",
       "      <td>4</td>\n",
       "      <td>Charmander</td>\n",
       "      <td>Fire</td>\n",
       "      <td>NaN</td>\n",
       "      <td>309</td>\n",
       "      <td>39</td>\n",
       "      <td>52</td>\n",
       "      <td>43</td>\n",
       "      <td>60</td>\n",
       "      <td>50</td>\n",
       "      <td>65</td>\n",
       "      <td>1</td>\n",
       "      <td>False</td>\n",
       "    </tr>\n",
       "  </tbody>\n",
       "</table>\n",
       "</div>"
      ],
      "text/plain": [
       "   #                   Name Type 1  Type 2  Total  HP  Attack  Defense  \\\n",
       "0  1              Bulbasaur  Grass  Poison    318  45      49       49   \n",
       "1  2                Ivysaur  Grass  Poison    405  60      62       63   \n",
       "2  3               Venusaur  Grass  Poison    525  80      82       83   \n",
       "3  3  VenusaurMega Venusaur  Grass  Poison    625  80     100      123   \n",
       "4  4             Charmander   Fire     NaN    309  39      52       43   \n",
       "\n",
       "   Sp. Atk  Sp. Def  Speed  Generation  Legendary  \n",
       "0       65       65     45           1      False  \n",
       "1       80       80     60           1      False  \n",
       "2      100      100     80           1      False  \n",
       "3      122      120     80           1      False  \n",
       "4       60       50     65           1      False  "
      ]
     },
     "execution_count": 6,
     "metadata": {},
     "output_type": "execute_result"
    }
   ],
   "source": [
    "pokemon = pd.read_csv('Pokemon.csv')\n",
    "pokemon.head()"
   ]
  },
  {
   "cell_type": "markdown",
   "metadata": {},
   "source": [
    "#### Primero queremos definir una función con la cual podamos probar las medias de un conjunto de características de dos muestras.\n",
    "\n",
    "En la siguiente celda verás las anotaciones de la función de Python que explican qué hace esta función, sus argumentos y el valor devuelto. Este tipo de anotación se llama **docstring**, que es una convención utilizada entre los desarrolladores de Python. La convención de docstring permite a los desarrolladores escribir documentaciones técnicas consistentes para sus códigos para que otros puedan leerlas. También permite que algunos sitios web analicen automáticamente las docstrings y muestren documentaciones amigables para el usuario.\n",
    "\n",
    "Sigue las especificaciones del docstring y completa la función."
   ]
  },
  {
   "cell_type": "code",
   "execution_count": null,
   "metadata": {},
   "outputs": [],
   "source": [
    "# Your code here"
   ]
  },
  {
   "cell_type": "markdown",
   "metadata": {},
   "source": [
    "#### Usando la función `t_test_features`, realiza la prueba t para los Pokémon Legendarios vs no Legendarios.\n",
    "\n",
    "*Pista: tu resultado debería verse como el siguiente:*\n",
    "\n",
    "```\n",
    "{'HP': 1.0026911708035284e-13,\n",
    " 'Attack': 2.520372449236646e-16,\n",
    " 'Defense': 4.8269984949193316e-11,\n",
    " 'Sp. Atk': 1.5514614112239812e-21,\n",
    " 'Sp. Def': 2.2949327864052826e-15,\n",
    " 'Speed': 1.049016311882451e-18,\n",
    " 'Total': 9.357954335957446e-47}\n",
    " ```"
   ]
  },
  {
   "cell_type": "code",
   "execution_count": 14,
   "metadata": {},
   "outputs": [
    {
     "name": "stdout",
     "output_type": "stream",
     "text": [
      "{'HP': 3.3306476848461913e-15, 'Attack': 7.827253003205333e-24, 'Defense': 1.5842226094427255e-12, 'Sp. Atk': 6.314915770427265e-41, 'Sp. Def': 1.8439809580409597e-26, 'Speed': 2.3540754436898437e-21, 'Total': 3.0952457469652825e-52}\n"
     ]
    }
   ],
   "source": [
    "def t_test_features(data, feature_list, target_column):\n",
    "    \"\"\"\n",
    "    Perform t-test to compare means of features between two groups.\n",
    "\n",
    "    Parameters:\n",
    "    - data (DataFrame): DataFrame containing the data.\n",
    "    - feature_list (list): List of feature column names to compare.\n",
    "    - target_column (str): Name of the column specifying the groups.\n",
    "\n",
    "    Returns:\n",
    "    - results (dict): Dictionary where keys are feature names and values are p-values from t-test.\n",
    "    \"\"\"\n",
    "    results = {}\n",
    "    group1 = data[data[target_column] == False]  # Pokémon no Legendarios\n",
    "    group2 = data[data[target_column] == True]   # Pokémon Legendarios\n",
    "    \n",
    "    for feature in feature_list:\n",
    "        stat, p_value = ttest_ind(group1[feature], group2[feature])\n",
    "        results[feature] = p_value\n",
    "        \n",
    "    return results\n",
    "\n",
    "# Definir la lista de características a comparar\n",
    "features_to_compare = ['HP', 'Attack', 'Defense', 'Sp. Atk', 'Sp. Def', 'Speed', 'Total']\n",
    "\n",
    "# Llamar a la función t_test_features\n",
    "results = t_test_features(pokemon, features_to_compare, 'Legendary')\n",
    "\n",
    "# Mostrar los resultados\n",
    "print(results)\n",
    "    \n",
    "features_to_compare = ['HP', 'Attack', 'Defense', 'Sp. Atk', 'Sp. Def', 'Speed', 'Total']\n"
   ]
  },
  {
   "cell_type": "markdown",
   "metadata": {},
   "source": [
    "#### A partir de los resultados de la prueba anterior, ¿qué conclusión puedes sacar? ¿Tienen los Pokémon Legendarios y no Legendarios estadísticas significativamente diferentes en cada característica?"
   ]
  },
  {
   "cell_type": "markdown",
   "metadata": {},
   "source": [
    "Todos estos valores de p son extremadamente pequeños por lo que podemos concluir que los legendarios y no legendarios tienen estadisticas signifcativamente distintas\n"
   ]
  },
  {
   "cell_type": "markdown",
   "metadata": {},
   "source": [
    "#### A continuación, realiza la prueba t (t-test) para los Pokémon de la Generación 1 (Generation 1) y la Generación 2 (Generation 2)."
   ]
  },
  {
   "cell_type": "code",
   "execution_count": 16,
   "metadata": {},
   "outputs": [
    {
     "name": "stdout",
     "output_type": "stream",
     "text": [
      "{'HP': 0.13791881412813622, 'Attack': 0.24050968418101454, 'Defense': 0.5407630349194362, 'Sp. Atk': 0.14119788176331508, 'Sp. Def': 0.16781226231606386, 'Speed': 0.0028356954812578704, 'Total': 0.5599140649014442}\n"
     ]
    }
   ],
   "source": [
    "gen1_pokemon = pokemon[pokemon['Generation'] == 1]\n",
    "gen2_pokemon = pokemon[pokemon['Generation'] == 2]\n",
    "\n",
    "def t_test_features(data1, data2, feature_list):\n",
    "   \n",
    "    results = {}\n",
    "    \n",
    "    for feature in feature_list:\n",
    "        stat, p_value = ttest_ind(data1[feature], data2[feature])\n",
    "        results[feature] = p_value\n",
    "        \n",
    "    return results\n",
    "\n",
    "features_to_compare = ['HP', 'Attack', 'Defense', 'Sp. Atk', 'Sp. Def', 'Speed', 'Total']\n",
    "\n",
    "\n",
    "results_gen1_vs_gen2 = t_test_features(gen1_pokemon, gen2_pokemon, features_to_compare)\n",
    "\n",
    "print(results_gen1_vs_gen2)\n"
   ]
  },
  {
   "cell_type": "markdown",
   "metadata": {},
   "source": [
    "#### ¿Qué conclusiones puedes sacar?"
   ]
  },
  {
   "cell_type": "code",
   "execution_count": null,
   "metadata": {},
   "outputs": [],
   "source": [
    "El unico stat realmente pèqueño es la velocidad (Speed), por lo que concluimos que de una generacion a la otra si que han cambiado la velocidad"
   ]
  },
  {
   "cell_type": "markdown",
   "metadata": {},
   "source": [
    "#### Compara los Pokémon que tienen un solo tipo vs aquellos que tienen dos tipos."
   ]
  },
  {
   "cell_type": "code",
   "execution_count": 17,
   "metadata": {},
   "outputs": [
    {
     "name": "stdout",
     "output_type": "stream",
     "text": [
      "{'HP': 0.11060643144431842, 'Attack': 0.00015741395666164396, 'Defense': 3.250594205757004e-08, 'Sp. Atk': 0.0001454917404035147, 'Sp. Def': 0.00010893304795534394, 'Speed': 0.024051410794037463, 'Total': 1.1749035008828753e-07}\n"
     ]
    }
   ],
   "source": [
    "#si solo tiene un tipo, el Type 2 sera NaN\n",
    "\n",
    "single_type_pokemon = pokemon[pokemon['Type 2'].isna()]\n",
    "dual_type_pokemon = pokemon[~pokemon['Type 2'].isna()]\n",
    "\n",
    "# Definir la lista de características a comparar\n",
    "features_to_compare = ['HP', 'Attack', 'Defense', 'Sp. Atk', 'Sp. Def', 'Speed', 'Total']\n",
    "\n",
    "# Realizar la prueba t para las características entre Pokémon de un solo tipo y dos tipos\n",
    "results_single_vs_dual = t_test_features(single_type_pokemon, dual_type_pokemon, features_to_compare)\n",
    "\n",
    "# Mostrar los resultados\n",
    "print(results_single_vs_dual)\n"
   ]
  },
  {
   "cell_type": "markdown",
   "metadata": {},
   "source": [
    "#### ¿Qué conclusiones puedes sacar?"
   ]
  },
  {
   "cell_type": "code",
   "execution_count": null,
   "metadata": {},
   "outputs": [],
   "source": [
    "El valor p de los stats totales es muy pequeño, pòr lo que concluimos diferencias entre 1 tipo y 2 tipos. Esto es especialmente remarcable si miramos ademas los stats de defensa"
   ]
  },
  {
   "cell_type": "markdown",
   "metadata": {},
   "source": [
    "#### Ahora, queremos comparar si hay diferencias significativas entre `Attack` vs `Defense` y `Sp. Atk` vs `Sp. Def` de todos los Pokémon. Por favor, escribe tu código a continuación.\n",
    "\n",
    "*Pista: ¿estás comparando diferentes poblaciones o la misma población?*"
   ]
  },
  {
   "cell_type": "code",
   "execution_count": 19,
   "metadata": {},
   "outputs": [
    {
     "name": "stdout",
     "output_type": "stream",
     "text": [
      "p-value (Attack vs Defense): 1.7140303479358558e-05\n",
      "p-value (Sp. Atk vs Sp. Def): 0.3933685997548122\n"
     ]
    }
   ],
   "source": [
    "from scipy.stats import ttest_rel\n",
    "\n",
    "pokemon_stats = pokemon[['Attack', 'Defense', 'Sp. Atk', 'Sp. Def']]\n",
    "\n",
    "\n",
    "def paired_t_test(feature1, feature2):\n",
    "   \n",
    "    stat, p_value = ttest_rel(feature1, feature2)\n",
    "    return p_value\n",
    "\n",
    "\n",
    "p_value_attack_defense = paired_t_test(pokemon_stats['Attack'], pokemon_stats['Defense'])\n",
    "print(f'p-value (Attack vs Defense): {p_value_attack_defense}')\n",
    "\n",
    "p_value_sp_atk_sp_def = paired_t_test(pokemon_stats['Sp. Atk'], pokemon_stats['Sp. Def'])\n",
    "print(f'p-value (Sp. Atk vs Sp. Def): {p_value_sp_atk_sp_def}')\n"
   ]
  },
  {
   "cell_type": "code",
   "execution_count": null,
   "metadata": {},
   "outputs": [],
   "source": [
    "Si que hay diferenciuas entre los stats de defensa y ataque basicos, pero no en los especiales, por lo que al menos en ese sentido estan equilibrados\n",
    "\n",
    "Aqui estamos cogiendo todos los pokemon como si fueran una sola poblacion"
   ]
  },
  {
   "cell_type": "markdown",
   "metadata": {},
   "source": [
    "#### ¿Qué conclusiones puedes sacar?"
   ]
  },
  {
   "cell_type": "code",
   "execution_count": null,
   "metadata": {},
   "outputs": [],
   "source": [
    "Pero que pasa si comparamos lo mismo entre los legendarios de los no legendarios?\n",
    "Aqui abajo ya vemos una diferencia abismal, unos valores de p extremadamente bajos que indica la gran diferencia entre estos stats, ataque y defensa basicas como speciales"
   ]
  },
  {
   "cell_type": "code",
   "execution_count": 23,
   "metadata": {},
   "outputs": [
    {
     "name": "stdout",
     "output_type": "stream",
     "text": [
      "p-value (Attack Legendario vs No Legendario): 7.827253003205333e-24\n",
      "p-value (Defense Legendario vs No Legendario): 1.5842226094427255e-12\n",
      "p-value (Sp. Atk Legendario vs No Legendario): 6.314915770427265e-41\n",
      "p-value (Sp. Def Legendario vs No Legendario): 1.8439809580409597e-26\n"
     ]
    }
   ],
   "source": [
    "# Filtrar los datos por Pokémon Legendarios y no Legendarios\n",
    "legendary_pokemon = pokemon[pokemon['Legendary'] == True]\n",
    "non_legendary_pokemon = pokemon[pokemon['Legendary'] == False]\n",
    "\n",
    "def t_test_features_legendary_vs_non_legendary(feature1, feature2):\n",
    "\n",
    "    stat, p_value = ttest_ind(feature1, feature2)\n",
    "    return p_value\n",
    "\n",
    "# Comparar Attack vs Defense para Pokémon Legendarios y no Legendarios\n",
    "p_value_attack_legendary_vs_non_legendary = t_test_features_legendary_vs_non_legendary(\n",
    "    legendary_pokemon['Attack'], non_legendary_pokemon['Attack'])\n",
    "p_value_defense_legendary_vs_non_legendary = t_test_features_legendary_vs_non_legendary(\n",
    "    legendary_pokemon['Defense'], non_legendary_pokemon['Defense'])\n",
    "\n",
    "# Comparar Sp. Atk vs Sp. Def para Pokémon Legendarios y no Legendarios\n",
    "p_value_sp_atk_legendary_vs_non_legendary = t_test_features_legendary_vs_non_legendary(\n",
    "    legendary_pokemon['Sp. Atk'], non_legendary_pokemon['Sp. Atk'])\n",
    "p_value_sp_def_legendary_vs_non_legendary = t_test_features_legendary_vs_non_legendary(\n",
    "    legendary_pokemon['Sp. Def'], non_legendary_pokemon['Sp. Def'])\n",
    "\n",
    "# Imprimir los resultados\n",
    "print(f'p-value (Attack Legendario vs No Legendario): {p_value_attack_legendary_vs_non_legendary}')\n",
    "print(f'p-value (Defense Legendario vs No Legendario): {p_value_defense_legendary_vs_non_legendary}')\n",
    "print(f'p-value (Sp. Atk Legendario vs No Legendario): {p_value_sp_atk_legendary_vs_non_legendary}')\n",
    "print(f'p-value (Sp. Def Legendario vs No Legendario): {p_value_sp_def_legendary_vs_non_legendary}')"
   ]
  },
  {
   "cell_type": "code",
   "execution_count": null,
   "metadata": {},
   "outputs": [],
   "source": []
  }
 ],
 "metadata": {
  "kernelspec": {
   "display_name": "Python 3 (ipykernel)",
   "language": "python",
   "name": "python3"
  },
  "language_info": {
   "codemirror_mode": {
    "name": "ipython",
    "version": 3
   },
   "file_extension": ".py",
   "mimetype": "text/x-python",
   "name": "python",
   "nbconvert_exporter": "python",
   "pygments_lexer": "ipython3",
   "version": "3.10.12"
  }
 },
 "nbformat": 4,
 "nbformat_minor": 4
}
